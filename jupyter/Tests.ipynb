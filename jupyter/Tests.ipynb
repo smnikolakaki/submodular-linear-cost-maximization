{
 "cells": [
  {
   "cell_type": "markdown",
   "metadata": {},
   "source": [
    "### Import packages"
   ]
  },
  {
   "cell_type": "code",
   "execution_count": 1,
   "metadata": {
    "ExecuteTime": {
     "end_time": "2019-12-16T22:51:12.860503Z",
     "start_time": "2019-12-16T22:51:07.951977Z"
    }
   },
   "outputs": [],
   "source": [
    "%matplotlib inline\n",
    "\n",
    "import matplotlib\n",
    "import matplotlib.pyplot as plt\n",
    "import os\n",
    "import sys\n",
    "import dill\n",
    "import yaml\n",
    "import numpy as np\n",
    "import pandas as pd\n",
    "import ast\n",
    "\n",
    "import seaborn as sns\n",
    "sns.set(style='ticks')"
   ]
  },
  {
   "cell_type": "markdown",
   "metadata": {},
   "source": [
    "### Import submodular-optimization packages"
   ]
  },
  {
   "cell_type": "code",
   "execution_count": 2,
   "metadata": {
    "ExecuteTime": {
     "end_time": "2019-12-16T22:51:12.932016Z",
     "start_time": "2019-12-16T22:51:12.867924Z"
    }
   },
   "outputs": [],
   "source": [
    "sys.path.insert(1, \"/home/grad3/harshal/Projects/submodular-optimization/submodular_optimization/\")"
   ]
  },
  {
   "cell_type": "markdown",
   "metadata": {},
   "source": [
    "### Import dataset"
   ]
  },
  {
   "cell_type": "code",
   "execution_count": 3,
   "metadata": {
    "ExecuteTime": {
     "end_time": "2019-12-16T22:51:12.988455Z",
     "start_time": "2019-12-16T22:51:12.937612Z"
    }
   },
   "outputs": [],
   "source": [
    "from data.data_provider import DataProvider"
   ]
  },
  {
   "cell_type": "code",
   "execution_count": 4,
   "metadata": {
    "ExecuteTime": {
     "end_time": "2019-12-16T22:51:13.043265Z",
     "start_time": "2019-12-16T22:51:12.992221Z"
    }
   },
   "outputs": [],
   "source": [
    "config_path = '/home/grad3/harshal/Projects/submodular-optimization/submodular_optimization/config/submodular-optimization.yaml'\n",
    "config = DataProvider.read_config(config_path)"
   ]
  },
  {
   "cell_type": "code",
   "execution_count": 5,
   "metadata": {
    "ExecuteTime": {
     "end_time": "2019-12-16T22:51:13.135699Z",
     "start_time": "2019-12-16T22:51:13.046215Z"
    }
   },
   "outputs": [],
   "source": [
    "dp = DataProvider(config)"
   ]
  },
  {
   "cell_type": "markdown",
   "metadata": {},
   "source": [
    "### Tests"
   ]
  },
  {
   "cell_type": "markdown",
   "metadata": {},
   "source": [
    "#### Test submodular function"
   ]
  },
  {
   "cell_type": "code",
   "execution_count": 6,
   "metadata": {
    "ExecuteTime": {
     "end_time": "2019-12-16T22:51:17.593110Z",
     "start_time": "2019-12-16T22:51:13.142998Z"
    }
   },
   "outputs": [],
   "source": [
    "guru_data = dp.read_guru_data_obj()"
   ]
  },
  {
   "cell_type": "code",
   "execution_count": 7,
   "metadata": {
    "ExecuteTime": {
     "end_time": "2019-12-16T22:51:17.633172Z",
     "start_time": "2019-12-16T22:51:17.597290Z"
    }
   },
   "outputs": [],
   "source": [
    "guru_data.create_samples()"
   ]
  },
  {
   "cell_type": "code",
   "execution_count": 8,
   "metadata": {
    "ExecuteTime": {
     "end_time": "2019-12-16T22:51:34.167266Z",
     "start_time": "2019-12-16T22:51:17.637209Z"
    },
    "scrolled": true
   },
   "outputs": [
    {
     "name": "stderr",
     "output_type": "stream",
     "text": [
      "/home/grad3/harshal/anaconda3/envs/python3.6/lib/python3.6/site-packages/numba/ir_utils.py:1959: NumbaPendingDeprecationWarning: \n",
      "Encountered the use of a type that is scheduled for deprecation: type 'reflected set' found for argument 'sol' of function 'GuruData.submodular_func_jit'.\n",
      "\n",
      "For more information visit http://numba.pydata.org/numba-doc/latest/reference/deprecation.html#deprecation-of-reflection-for-list-and-set-types\n",
      "\n",
      "File \"../submodular_optimization/guru/guru_dataset.py\", line 86:\n",
      "    @jit(nopython=True)\n",
      "    def submodular_func_jit(sol, skills_covered, skills_matrix):\n",
      "    ^\n",
      "\n",
      "  warnings.warn(NumbaPendingDeprecationWarning(msg, loc=loc))\n"
     ]
    }
   ],
   "source": [
    "for i in range(10000):\n",
    "    # Test submodularity i.e. for all S, T: f(S) + f(T) >= f(S \\union T) + f(S \\intersection T)\n",
    "    S = set(np.random.choice(range(guru_data.num_users), np.random.randint(50)))\n",
    "    T = set(np.random.choice(range(guru_data.num_users), np.random.randint(50)))\n",
    "    S_union_T = S.union(T)\n",
    "    S_intersection_T = S.intersection(T)\n",
    "    submodular = guru_data.submodular_func\n",
    "    assert submodular(S) + submodular(T) >= submodular(S_union_T) + submodular(S_intersection_T)"
   ]
  },
  {
   "cell_type": "code",
   "execution_count": 15,
   "metadata": {
    "ExecuteTime": {
     "end_time": "2019-12-16T22:52:55.412620Z",
     "start_time": "2019-12-16T22:52:55.349951Z"
    }
   },
   "outputs": [
    {
     "data": {
      "text/plain": [
       "50000"
      ]
     },
     "execution_count": 15,
     "metadata": {},
     "output_type": "execute_result"
    }
   ],
   "source": [
    "np.max(guru_data.cost_vector)"
   ]
  },
  {
   "cell_type": "code",
   "execution_count": null,
   "metadata": {},
   "outputs": [],
   "source": []
  }
 ],
 "metadata": {
  "kernelspec": {
   "display_name": "Python 3",
   "language": "python",
   "name": "python3"
  },
  "language_info": {
   "codemirror_mode": {
    "name": "ipython",
    "version": 3
   },
   "file_extension": ".py",
   "mimetype": "text/x-python",
   "name": "python",
   "nbconvert_exporter": "python",
   "pygments_lexer": "ipython3",
   "version": "3.6.8"
  },
  "toc": {
   "base_numbering": 1,
   "nav_menu": {},
   "number_sections": true,
   "sideBar": true,
   "skip_h1_title": false,
   "title_cell": "Table of Contents",
   "title_sidebar": "Contents",
   "toc_cell": false,
   "toc_position": {},
   "toc_section_display": true,
   "toc_window_display": false
  }
 },
 "nbformat": 4,
 "nbformat_minor": 2
}
