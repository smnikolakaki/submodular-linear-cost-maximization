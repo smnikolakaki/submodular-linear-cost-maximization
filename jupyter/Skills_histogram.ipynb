{
 "cells": [
  {
   "cell_type": "markdown",
   "metadata": {},
   "source": [
    "### Import packages"
   ]
  },
  {
   "cell_type": "code",
   "execution_count": 1,
   "metadata": {},
   "outputs": [],
   "source": [
    "%matplotlib inline\n",
    "\n",
    "import matplotlib\n",
    "import matplotlib.pyplot as plt\n",
    "import os\n",
    "import sys\n",
    "import dill\n",
    "import yaml\n",
    "import numpy as np\n",
    "import pandas as pd\n",
    "import ast\n",
    "import seaborn as sns\n",
    "\n",
    "from collections import Iterable\n",
    "from collections import Counter\n",
    "sns.set(style='ticks')"
   ]
  },
  {
   "cell_type": "markdown",
   "metadata": {},
   "source": [
    "### Utility functions"
   ]
  },
  {
   "cell_type": "code",
   "execution_count": 2,
   "metadata": {},
   "outputs": [],
   "source": [
    "def flatten(x):\n",
    "    result = []\n",
    "    for el in x:\n",
    "        if hasattr(el, \"__iter__\") and not isinstance(el, str):\n",
    "            result.extend(flatten(el))\n",
    "        else:\n",
    "            result.append(el)\n",
    "    return result"
   ]
  },
  {
   "cell_type": "code",
   "execution_count": 3,
   "metadata": {},
   "outputs": [],
   "source": [
    "def create_skills_list(df_user):\n",
    "    skills_one_nested_list = df_user['skills'].tolist()\n",
    "    skills_one_list = flatten(skills_one_nested_list)\n",
    "    return list(skills_one_list)"
   ]
  },
  {
   "cell_type": "code",
   "execution_count": 55,
   "metadata": {},
   "outputs": [],
   "source": [
    "def create_skills_frequencies_dictionary(skills_list):\n",
    "    skills_dict_counter = {}\n",
    "    for skill in skills_list:\n",
    "        if skill not in skills_dict_counter:\n",
    "            skills_dict_counter[skill] = 0\n",
    "        skills_dict_counter[skill] += 1\n",
    "        \n",
    "    return skills_dict_counter"
   ]
  },
  {
   "cell_type": "code",
   "execution_count": 56,
   "metadata": {},
   "outputs": [],
   "source": [
    "def convert_skills_to_frequencies(skills_list):\n",
    "    skills_dict_counter = create_skills_frequencies_dictionary(skills_list)\n",
    "    skills_occurrences = list(skills_dict_counter.values())\n",
    "    return skills_occurrences"
   ]
  },
  {
   "cell_type": "code",
   "execution_count": 57,
   "metadata": {},
   "outputs": [],
   "source": [
    "def set_style():\n",
    "    # This sets reasonable defaults for font size for a paper\n",
    "    sns.set_context(\"paper\")    \n",
    "    # Set the font to be serif\n",
    "    sns.set(font='serif')#, rc={'text.usetex' : True})   \n",
    "    # Make the background white, and specify the specific font family\n",
    "    sns.set_style(\"white\", {\n",
    "        \"font.family\": \"serif\",\n",
    "        \"font.serif\": [\"Times\", \"Palatino\", \"serif\"]\n",
    "    })\n",
    "    # Set tick size for axes\n",
    "    sns.set_style(\"ticks\", {\"xtick.major.size\": 6, \"ytick.major.size\": 6})"
   ]
  },
  {
   "cell_type": "code",
   "execution_count": 58,
   "metadata": {},
   "outputs": [],
   "source": [
    "def set_size(fig, width=12, height=9):\n",
    "    fig.set_size_inches(width, height)\n",
    "    plt.tight_layout()"
   ]
  },
  {
   "cell_type": "code",
   "execution_count": 59,
   "metadata": {},
   "outputs": [],
   "source": [
    "def save_fig(fig, filename):\n",
    "    fig.savefig(os.path.join(VIZ_DIR, filename), dpi=600, format='pdf', bbox_inches='tight')"
   ]
  },
  {
   "cell_type": "code",
   "execution_count": 60,
   "metadata": {},
   "outputs": [],
   "source": [
    "def plot_skills_histogram(alist):      \n",
    "    bins = 100\n",
    "    title = \"Distribution of skill occurrences in users.\"    \n",
    "    width = 0.8\n",
    "    xmin = min(alist) - 1; xmax = max(alist) + 1\n",
    "    \n",
    "    fig = plt.gcf()\n",
    "    (n, bins, patches) = plt.hist(alist, bins=bins, color=\"#3F5D7D\", normed=False,\\\n",
    "                                  histtype='bar')\n",
    "    \n",
    "    plt.xticks(fontsize = 16)\n",
    "    plt.yticks(fontsize = 16)\n",
    "    plt.xlabel('Frequency',fontsize=16)\n",
    "    plt.ylabel('Skills',fontsize=16)\n",
    "    plt.xlim([xmin-10, xmax+10])\n",
    "    plt.yscale('log')\n",
    "\n",
    "    plt.title(title)\n",
    "    \n",
    "    return fig"
   ]
  },
  {
   "cell_type": "markdown",
   "metadata": {},
   "source": [
    "### Pre-processing of skill occurrences"
   ]
  },
  {
   "cell_type": "code",
   "execution_count": 61,
   "metadata": {},
   "outputs": [],
   "source": [
    "generic = lambda x: ast.literal_eval(x)\n",
    "df_user = pd.read_csv(\"/Users/smnikolakaki/Desktop/research/data-x/submodular-optimization/guru/guru_user_df.csv\",\n",
    "                header=0,\n",
    "                index_col=False,\n",
    "                converters={'skills': generic})"
   ]
  },
  {
   "cell_type": "code",
   "execution_count": 62,
   "metadata": {},
   "outputs": [
    {
     "name": "stdout",
     "output_type": "stream",
     "text": [
      "Total number of skills: 64724\n",
      "Number of distinct skills in users: 4182\n"
     ]
    }
   ],
   "source": [
    "skills_user_list = create_skills_list(df_user)\n",
    "print('Total number of skills:',len(skills_user_list))\n",
    "skills_set = list(set(skills_user_list))\n",
    "print('Number of distinct skills in users:',len(skills_set))"
   ]
  },
  {
   "cell_type": "code",
   "execution_count": 63,
   "metadata": {},
   "outputs": [],
   "source": [
    "df_skills = pd.read_csv(\"/Users/smnikolakaki/Desktop/research/data-x/submodular-optimization/guru/guru_skill_df.csv\",\n",
    "                header=0,\n",
    "                index_col=False)"
   ]
  },
  {
   "cell_type": "code",
   "execution_count": 64,
   "metadata": {},
   "outputs": [
    {
     "name": "stdout",
     "output_type": "stream",
     "text": [
      "Number of distinct skills in skills: 1639\n"
     ]
    }
   ],
   "source": [
    "skills_list = df_skills['skill'].tolist()\n",
    "print('Number of distinct skills in skills:',len(skills_list))\n",
    "skill_dict = {}\n",
    "for skill in skills_list:\n",
    "    if skill not in skill_dict:\n",
    "        skill_dict[skill] = 0\n",
    "    skill_dict[skill] += 1"
   ]
  },
  {
   "cell_type": "code",
   "execution_count": 65,
   "metadata": {},
   "outputs": [],
   "source": [
    "skills_list = [x for x in skills_user_list if x in skill_dict]\n",
    "skills_occurrences = convert_skills_to_frequencies(skills_list)"
   ]
  },
  {
   "cell_type": "markdown",
   "metadata": {},
   "source": [
    "### Plot histogram"
   ]
  },
  {
   "cell_type": "code",
   "execution_count": 66,
   "metadata": {},
   "outputs": [
    {
     "name": "stderr",
     "output_type": "stream",
     "text": [
      "/opt/anaconda3/envs/python3.6/lib/python3.6/site-packages/ipykernel_launcher.py:9: MatplotlibDeprecationWarning: \n",
      "The 'normed' kwarg was deprecated in Matplotlib 2.1 and will be removed in 3.1. Use 'density' instead.\n",
      "  if __name__ == '__main__':\n"
     ]
    },
    {
     "data": {
      "image/png": "[encoded data removed]",
      "text/plain": [
       "<Figure size 720x576 with 1 Axes>"
      ]
     },
     "metadata": {},
     "output_type": "display_data"
    }
   ],
   "source": [
    "set_style()\n",
    "fig = plot_skills_histogram(skills_occurrences)\n",
    "set_size(fig, 10, 8)"
   ]
  },
  {
   "cell_type": "markdown",
   "metadata": {},
   "source": [
    "### Plot histogram of sampled users"
   ]
  },
  {
   "cell_type": "code",
   "execution_count": 67,
   "metadata": {},
   "outputs": [],
   "source": [
    "def sample_users(num_users,fraction=1.0):\n",
    "    if fraction < 1.0:\n",
    "        num_sampled_users = int(fraction * num_users)\n",
    "        sampled_users = np.random.choice(num_users, size=num_sampled_users, replace=False)\n",
    "        E = set(sampled_users)\n",
    "    else:\n",
    "        E = set(np.arange(num_users))\n",
    "       \n",
    "    return E"
   ]
  },
  {
   "cell_type": "code",
   "execution_count": 68,
   "metadata": {},
   "outputs": [],
   "source": [
    "def convert_sampled_skills_to_frequencies(num_users,fraction=1.0):\n",
    "    E = sample_users(num_users,users_sample_fraction)\n",
    "    list_of_available_skills = [user_skills_dict[x] for x in E]\n",
    "    list_of_available_skills = [y for x in list_of_available_skills for y in x]\n",
    "    skills_occurrences = convert_skills_to_frequencies(list_of_available_skills)\n",
    "    return skills_occurrences"
   ]
  },
  {
   "cell_type": "code",
   "execution_count": 69,
   "metadata": {},
   "outputs": [],
   "source": [
    "num_users = len(df_user)\n",
    "skills_nested_list = df_user['skills'].tolist()\n",
    "users_list = df_user['user_id'].tolist()\n",
    "user_skills_dict = {}\n",
    "for i, user in enumerate(users_list):\n",
    "    user_skills_dict[user] = skills_nested_list[i]"
   ]
  },
  {
   "cell_type": "code",
   "execution_count": 100,
   "metadata": {},
   "outputs": [
    {
     "name": "stdout",
     "output_type": "stream",
     "text": [
      "Total number of skills: 921\n",
      "Num of skills with 2 or less occurrences: 694\n",
      "% of skills with 2 or less occurrences: 75.3528773072747\n",
      "Num of skills with 200 or more occurrences: 1\n",
      "% of skills with 200 or more occurrences: 0.10857763300760044\n"
     ]
    },
    {
     "name": "stderr",
     "output_type": "stream",
     "text": [
      "/opt/anaconda3/envs/python3.6/lib/python3.6/site-packages/ipykernel_launcher.py:9: MatplotlibDeprecationWarning: \n",
      "The 'normed' kwarg was deprecated in Matplotlib 2.1 and will be removed in 3.1. Use 'density' instead.\n",
      "  if __name__ == '__main__':\n"
     ]
    },
    {
     "data": {
      "image/png": "[encoded data removed]",
      "text/plain": [
       "<Figure size 720x576 with 1 Axes>"
      ]
     },
     "metadata": {},
     "output_type": "display_data"
    }
   ],
   "source": [
    "users_sample_fraction = 0.05\n",
    "skill_occurrences = convert_sampled_skills_to_frequencies(num_users,users_sample_fraction)\n",
    "skill_occurrences_sorted = sorted(skill_occurrences)\n",
    "print('Total number of skills:',len(skill_occurrences))\n",
    "total_num_of_skills = len(skill_occurrences)\n",
    "num_of_skills_with_less_than_3_occurrences = len([x for x in skill_occurrences_sorted if x < 3])\n",
    "num_of_skills_with_more_than_200_occurrences = len([x for x in skill_occurrences_sorted if x > 50])\n",
    "print('Num of skills with 2 or less occurrences:',num_of_skills_with_less_than_3_occurrences)\n",
    "print('% of skills with 2 or less occurrences:',(num_of_skills_with_less_than_3_occurrences/total_num_of_skills)*100)\n",
    "print('Num of skills with 200 or more occurrences:',num_of_skills_with_more_than_200_occurrences)\n",
    "print('% of skills with 200 or more occurrences:',(num_of_skills_with_more_than_200_occurrences/total_num_of_skills)*100)\n",
    "set_style()\n",
    "fig = plot_skills_histogram(skill_occurrences)\n",
    "set_size(fig, 10, 8)"
   ]
  },
  {
   "cell_type": "code",
   "execution_count": 99,
   "metadata": {},
   "outputs": [
    {
     "name": "stdout",
     "output_type": "stream",
     "text": [
      "Total number of skills: 1995\n",
      "Num of skills with 2 or less occurrences: 1294\n",
      "% of skills with 2 or less occurrences: 64.86215538847118\n",
      "Num of skills with 200 or more occurrences: 57\n",
      "% of skills with 200 or more occurrences: 2.857142857142857\n"
     ]
    },
    {
     "name": "stderr",
     "output_type": "stream",
     "text": [
      "/opt/anaconda3/envs/python3.6/lib/python3.6/site-packages/ipykernel_launcher.py:9: MatplotlibDeprecationWarning: \n",
      "The 'normed' kwarg was deprecated in Matplotlib 2.1 and will be removed in 3.1. Use 'density' instead.\n",
      "  if __name__ == '__main__':\n"
     ]
    },
    {
     "data": {
      "image/png": "[encoded data removed]",
      "text/plain": [
       "<Figure size 720x576 with 1 Axes>"
      ]
     },
     "metadata": {},
     "output_type": "display_data"
    }
   ],
   "source": [
    "users_sample_fraction = 0.2\n",
    "skill_occurrences = convert_sampled_skills_to_frequencies(num_users,users_sample_fraction)\n",
    "skill_occurrences_sorted = sorted(skill_occurrences)\n",
    "print('Total number of skills:',len(skill_occurrences))\n",
    "total_num_of_skills = len(skill_occurrences)\n",
    "num_of_skills_with_less_than_3_occurrences = len([x for x in skill_occurrences_sorted if x < 3])\n",
    "num_of_skills_with_more_than_200_occurrences = len([x for x in skill_occurrences_sorted if x > 50])\n",
    "print('Num of skills with 2 or less occurrences:',num_of_skills_with_less_than_3_occurrences)\n",
    "print('% of skills with 2 or less occurrences:',(num_of_skills_with_less_than_3_occurrences/total_num_of_skills)*100)\n",
    "print('Num of skills with 200 or more occurrences:',num_of_skills_with_more_than_200_occurrences)\n",
    "print('% of skills with 200 or more occurrences:',(num_of_skills_with_more_than_200_occurrences/total_num_of_skills)*100)\n",
    "set_style()\n",
    "fig = plot_skills_histogram(skill_occurrences)\n",
    "set_size(fig, 10, 8)"
   ]
  },
  {
   "cell_type": "code",
   "execution_count": 98,
   "metadata": {},
   "outputs": [
    {
     "name": "stdout",
     "output_type": "stream",
     "text": [
      "Total number of skills: 1415\n",
      "Num of skills with 2 or less occurrences: 953\n",
      "% of skills with 2 or less occurrences: 67.34982332155477\n",
      "Num of skills with 200 or more occurrences: 19\n",
      "% of skills with 200 or more occurrences: 1.342756183745583\n"
     ]
    },
    {
     "name": "stderr",
     "output_type": "stream",
     "text": [
      "/opt/anaconda3/envs/python3.6/lib/python3.6/site-packages/ipykernel_launcher.py:9: MatplotlibDeprecationWarning: \n",
      "The 'normed' kwarg was deprecated in Matplotlib 2.1 and will be removed in 3.1. Use 'density' instead.\n",
      "  if __name__ == '__main__':\n"
     ]
    },
    {
     "data": {
      "image/png": "[encoded data removed]",
      "text/plain": [
       "<Figure size 720x576 with 1 Axes>"
      ]
     },
     "metadata": {},
     "output_type": "display_data"
    }
   ],
   "source": [
    "users_sample_fraction = 0.1\n",
    "skill_occurrences = convert_sampled_skills_to_frequencies(num_users,users_sample_fraction)\n",
    "skill_occurrences_sorted = sorted(skill_occurrences)\n",
    "print('Total number of skills:',len(skill_occurrences))\n",
    "total_num_of_skills = len(skill_occurrences)\n",
    "num_of_skills_with_less_than_3_occurrences = len([x for x in skill_occurrences_sorted if x < 3])\n",
    "num_of_skills_with_more_than_200_occurrences = len([x for x in skill_occurrences_sorted if x > 50])\n",
    "print('Num of skills with 2 or less occurrences:',num_of_skills_with_less_than_3_occurrences)\n",
    "print('% of skills with 2 or less occurrences:',(num_of_skills_with_less_than_3_occurrences/total_num_of_skills)*100)\n",
    "print('Num of skills with 200 or more occurrences:',num_of_skills_with_more_than_200_occurrences)\n",
    "print('% of skills with 200 or more occurrences:',(num_of_skills_with_more_than_200_occurrences/total_num_of_skills)*100)\n",
    "set_style()\n",
    "fig = plot_skills_histogram(skill_occurrences)\n",
    "set_size(fig, 10, 8)"
   ]
  },
  {
   "cell_type": "code",
   "execution_count": null,
   "metadata": {},
   "outputs": [],
   "source": []
  }
 ],
 "metadata": {
  "kernelspec": {
   "display_name": "Python 3",
   "language": "python",
   "name": "python3"
  },
  "language_info": {
   "codemirror_mode": {
    "name": "ipython",
    "version": 3
   },
   "file_extension": ".py",
   "mimetype": "text/x-python",
   "name": "python",
   "nbconvert_exporter": "python",
   "pygments_lexer": "ipython3",
   "version": "3.6.8"
  }
 },
 "nbformat": 4,
 "nbformat_minor": 2
}
